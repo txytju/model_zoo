{
 "cells": [
  {
   "cell_type": "markdown",
   "metadata": {},
   "source": [
    "Code from [this page](https://machinelearningmastery.com/develop-first-xgboost-model-python-scikit-learn/)"
   ]
  },
  {
   "cell_type": "code",
   "execution_count": 1,
   "metadata": {
    "collapsed": true
   },
   "outputs": [],
   "source": [
    "from numpy import loadtxt\n",
    "from xgboost import XGBClassifier\n",
    "from sklearn.model_selection import train_test_split\n",
    "from sklearn.metrics import accuracy_score"
   ]
  },
  {
   "cell_type": "code",
   "execution_count": 2,
   "metadata": {
    "collapsed": true
   },
   "outputs": [],
   "source": [
    "dataset = loadtxt(\"xgboost/pima-indians-diabetes.data.csv\", delimiter=\",\")"
   ]
  },
  {
   "cell_type": "code",
   "execution_count": 3,
   "metadata": {
    "collapsed": true
   },
   "outputs": [],
   "source": [
    "X = dataset[:,0:8]\n",
    "y = dataset[:,8]"
   ]
  },
  {
   "cell_type": "code",
   "execution_count": 4,
   "metadata": {
    "collapsed": true
   },
   "outputs": [],
   "source": [
    "seed = 7\n",
    "test_size = 0.33\n",
    "# random split data into training dataset ans test dataset\n",
    "X_train, X_test, y_train, y_test = train_test_split(X, y, test_size=test_size, random_state=seed)"
   ]
  },
  {
   "cell_type": "code",
   "execution_count": 5,
   "metadata": {},
   "outputs": [
    {
     "data": {
      "text/plain": [
       "XGBClassifier(base_score=0.5, booster='gbtree', colsample_bylevel=1,\n",
       "       colsample_bytree=1, gamma=0, learning_rate=0.1, max_delta_step=0,\n",
       "       max_depth=3, min_child_weight=1, missing=None, n_estimators=100,\n",
       "       n_jobs=1, nthread=None, objective='binary:logistic', random_state=0,\n",
       "       reg_alpha=0, reg_lambda=1, scale_pos_weight=1, seed=None,\n",
       "       silent=True, subsample=1)"
      ]
     },
     "execution_count": 5,
     "metadata": {},
     "output_type": "execute_result"
    }
   ],
   "source": [
    "# train the model\n",
    "model = XGBClassifier()\n",
    "model.fit(X,y)"
   ]
  },
  {
   "cell_type": "code",
   "execution_count": 6,
   "metadata": {
    "collapsed": true
   },
   "outputs": [],
   "source": [
    "y_pred = model.predict(X_test)"
   ]
  },
  {
   "cell_type": "code",
   "execution_count": 7,
   "metadata": {
    "collapsed": true
   },
   "outputs": [],
   "source": [
    "predictions = [round(value) for value in y_pred]"
   ]
  },
  {
   "cell_type": "code",
   "execution_count": 11,
   "metadata": {},
   "outputs": [
    {
     "name": "stdout",
     "output_type": "stream",
     "text": [
      "0.88188976378\n"
     ]
    }
   ],
   "source": [
    "accuracy = accuracy_score(y_test, predictions)\n",
    "print(accuracy)"
   ]
  },
  {
   "cell_type": "markdown",
   "metadata": {},
   "source": [
    "### Use neural network for this problem"
   ]
  },
  {
   "cell_type": "code",
   "execution_count": 44,
   "metadata": {
    "collapsed": true
   },
   "outputs": [],
   "source": [
    "import tensorflow as tf\n",
    "import numpy as np\n",
    "from sklearn.model_selection import train_test_split\n",
    "from sklearn.metrics import accuracy_score\n",
    "import matplotlib.pyplot as plt\n",
    "%matplotlib inline"
   ]
  },
  {
   "cell_type": "code",
   "execution_count": 45,
   "metadata": {
    "collapsed": true
   },
   "outputs": [],
   "source": [
    "dataset = np.loadtxt(\"xgboost/pima-indians-diabetes.data.csv\", delimiter=\",\")"
   ]
  },
  {
   "cell_type": "code",
   "execution_count": 46,
   "metadata": {
    "collapsed": true
   },
   "outputs": [],
   "source": [
    "X = dataset[:,0:8]\n",
    "y = dataset[:,8]"
   ]
  },
  {
   "cell_type": "code",
   "execution_count": 47,
   "metadata": {
    "collapsed": true
   },
   "outputs": [],
   "source": [
    "seed = 1\n",
    "test_size = 0.3\n",
    "X_train, X_test, y_train, y_test = train_test_split(X, y, test_size=test_size, random_state=seed)"
   ]
  },
  {
   "cell_type": "code",
   "execution_count": 48,
   "metadata": {
    "collapsed": true
   },
   "outputs": [],
   "source": [
    "def generate_train_data(X_train, y_train, batch_size=32):\n",
    "    \n",
    "    length = X_train.shape[0]\n",
    "    idxs = np.random.choice(range(length), batch_size)\n",
    "    \n",
    "    X_train_batch = [X_train[i] for i in idxs]\n",
    "    y_train_batch = [y_train[i] for i in idxs]\n",
    "\n",
    "    X_train_batch = np.array(X_train_batch)\n",
    "    y_train_batch = np.array(y_train_batch)  \n",
    "    y_train_batch = np.expand_dims(y_train_batch, axis=1)\n",
    "    \n",
    "    return X_train_batch, y_train_batch"
   ]
  },
  {
   "cell_type": "markdown",
   "metadata": {},
   "source": [
    "#### model : fully connected neural network"
   ]
  },
  {
   "cell_type": "code",
   "execution_count": 84,
   "metadata": {
    "collapsed": true
   },
   "outputs": [],
   "source": [
    "hidden_1 = 100\n",
    "hidden_2 = 100\n",
    "output_dim = 1\n",
    "\n",
    "num_epoches = 3000"
   ]
  },
  {
   "cell_type": "code",
   "execution_count": 85,
   "metadata": {
    "collapsed": true
   },
   "outputs": [],
   "source": [
    "X = tf.placeholder(dtype=tf.float32, shape=(None,8), name=\"X\")\n",
    "y = tf.placeholder(dtype=tf.float32, shape=(None,1), name=\"y\")"
   ]
  },
  {
   "cell_type": "code",
   "execution_count": 86,
   "metadata": {
    "collapsed": true
   },
   "outputs": [],
   "source": [
    "h1 = tf.layers.dense(X, units=hidden_1, activation=tf.nn.relu, kernel_initializer=tf.contrib.layers.xavier_initializer())\n",
    "h2 = tf.layers.dense(h1, units=hidden_2, activation=tf.nn.relu, kernel_initializer=tf.contrib.layers.xavier_initializer())\n",
    "z = tf.layers.dense(h2, units=output_dim)\n",
    "# a = tf.nn.softmax(z)"
   ]
  },
  {
   "cell_type": "code",
   "execution_count": 87,
   "metadata": {
    "collapsed": true
   },
   "outputs": [],
   "source": [
    "# loss = tf.losses.sigmoid_cross_entropy(a, y)\n",
    "loss = tf.reduce_mean(tf.nn.sigmoid_cross_entropy_with_logits(logits=z, labels=y))"
   ]
  },
  {
   "cell_type": "code",
   "execution_count": 88,
   "metadata": {
    "collapsed": true
   },
   "outputs": [],
   "source": [
    "optimizer = tf.train.AdamOptimizer(learning_rate=0.001)\n",
    "train_op = optimizer.minimize(loss)"
   ]
  },
  {
   "cell_type": "code",
   "execution_count": 92,
   "metadata": {
    "scrolled": false
   },
   "outputs": [
    {
     "name": "stdout",
     "output_type": "stream",
     "text": [
      "accuracy on training set :  0.0409683426443\n",
      "accuracy on test set :  0.0606060606061\n",
      "accuracy on training set :  0.240223463687\n",
      "accuracy on test set :  0.25974025974\n",
      "accuracy on training set :  0.143389199255\n",
      "accuracy on test set :  0.199134199134\n",
      "accuracy on training set :  0.202979515829\n",
      "accuracy on test set :  0.160173160173\n",
      "accuracy on training set :  0.119180633147\n",
      "accuracy on test set :  0.142857142857\n",
      "accuracy on training set :  0.255121042831\n",
      "accuracy on test set :  0.246753246753\n"
     ]
    }
   ],
   "source": [
    "with tf.Session() as sess:\n",
    "    init = tf.global_variables_initializer()\n",
    "    sess.run(init)\n",
    "    losses = []\n",
    "    for epoch in range(num_epoches):\n",
    "        X_train_batch, y_train_batch = generate_train_data(X_train, y_train)\n",
    "        # print(X_train_batch.shape, y_train_batch.shape)\n",
    "        feed_dict = {X : X_train_batch, y : y_train_batch}\n",
    "        _, loss_e = sess.run([train_op, loss], feed_dict=feed_dict)\n",
    "        losses.append(loss_e)\n",
    "        \n",
    "        # eveluate on test set\n",
    "        if epoch % 500 == 0:\n",
    "            y_pred = sess.run(z, feed_dict={X : X_train})\n",
    "            predictions = [np.round(value) for value in y_pred]\n",
    "            accuracy = accuracy_score(y_train, predictions)\n",
    "            print(\"accuracy on training set : \", accuracy)\n",
    "            \n",
    "            y_pred = sess.run(z, feed_dict={X : X_test})\n",
    "            predictions = [np.round(value) for value in y_pred]\n",
    "            accuracy = accuracy_score(y_test, predictions)\n",
    "            print(\"accuracy on test set : \", accuracy)"
   ]
  },
  {
   "cell_type": "code",
   "execution_count": 93,
   "metadata": {},
   "outputs": [
    {
     "data": {
      "text/plain": [
       "[<matplotlib.lines.Line2D at 0x7f10ec4e8748>]"
      ]
     },
     "execution_count": 93,
     "metadata": {},
     "output_type": "execute_result"
    },
    {
     "data": {
      "image/png": "[encoded data removed]",
      "text/plain": [
       "<matplotlib.figure.Figure at 0x7f10ed92b208>"
      ]
     },
     "metadata": {},
     "output_type": "display_data"
    }
   ],
   "source": [
    "plt.plot(losses)"
   ]
  },
  {
   "cell_type": "markdown",
   "metadata": {
    "collapsed": true
   },
   "source": [
    "# Changelog\n",
    "- 20180421 v0\n",
    "    - 尝试使用`xgboost`做分类\n",
    "    - 尝试使用全连接神经网络分类并与`xgboost`结果进行对比，失败\n",
    "    - TODO\n",
    "        - 尝试使用`xgboost`做回归\n",
    "        - 使用`lstm`进行回归，并与`xgboost`进行对比"
   ]
  },
  {
   "cell_type": "code",
   "execution_count": null,
   "metadata": {
    "collapsed": true
   },
   "outputs": [],
   "source": []
  }
 ],
 "metadata": {
  "kernelspec": {
   "display_name": "Python 3",
   "language": "python",
   "name": "python3"
  },
  "language_info": {
   "codemirror_mode": {
    "name": "ipython",
    "version": 3
   },
   "file_extension": ".py",
   "mimetype": "text/x-python",
   "name": "python",
   "nbconvert_exporter": "python",
   "pygments_lexer": "ipython3",
   "version": "3.5.2"
  }
 },
 "nbformat": 4,
 "nbformat_minor": 2
}
